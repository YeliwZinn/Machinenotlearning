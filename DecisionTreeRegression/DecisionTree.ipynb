{
  "cells": [
    {
      "cell_type": "markdown",
      "metadata": {
        "id": "dMk-nIThQtFo"
      },
      "source": [
        "# Decision Tree"
      ]
    },
    {
      "cell_type": "markdown",
      "metadata": {
        "id": "jrTtVehWQxBT"
      },
      "source": [
        "## Here the datachart is divided into leaves to add more info to the dataset\n",
        "Hum divide bhi usi basis pe krte h ki kya ko more information add kr raha h ki nahi.\n",
        "Hum divide ke lete h leaves mai phit waha pe jitne independent variables h unn sb ka avg lete h.\n",
        "Iss se humko check ke mai/predict krne mai easy hota h and accurate hota h."
      ]
    },
    {
      "cell_type": "markdown",
      "metadata": {
        "id": "TOKREPoySf2o"
      },
      "source": [
        "## Import the libraries"
      ]
    },
    {
      "cell_type": "code",
      "execution_count": null,
      "metadata": {
        "id": "YXvxjQ2qQoMe"
      },
      "outputs": [],
      "source": [
        "import pandas as pd\n",
        "import numpy as np\n",
        "import matplotlib.pyplot as pt"
      ]
    },
    {
      "cell_type": "markdown",
      "metadata": {
        "id": "aCflF-t-StSu"
      },
      "source": [
        "## Import the dataset"
      ]
    },
    {
      "cell_type": "code",
      "execution_count": null,
      "metadata": {
        "id": "cG5xW_QFSwP3"
      },
      "outputs": [],
      "source": [
        "df=pd.read_csv('Position_Salaries.csv')\n",
        "x=df.iloc[:, 1:-1].values\n",
        "y=df.iloc[:, -1:].values"
      ]
    },
    {
      "cell_type": "code",
      "execution_count": null,
      "metadata": {
        "colab": {
          "base_uri": "https://localhost:8080/"
        },
        "id": "Z10yzEsyTKh8",
        "outputId": "6e1b331e-62b6-473d-aece-83acc479ce9c"
      },
      "outputs": [],
      "source": [
        "print(x)"
      ]
    },
    {
      "cell_type": "code",
      "execution_count": null,
      "metadata": {
        "colab": {
          "base_uri": "https://localhost:8080/"
        },
        "id": "Su5OXOhcTLyV",
        "outputId": "04e7a42b-4973-46c1-aaef-1fd7f8d25914"
      },
      "outputs": [],
      "source": [
        "print(y)"
      ]
    },
    {
      "cell_type": "markdown",
      "metadata": {
        "id": "jZS_KMu2TY1S"
      },
      "source": [
        "## yaha featue scaling nahi zaroori h kyuki model is trained on the splits of data jo ki tree ke nodes pe depend krta h naa equations pe."
      ]
    },
    {
      "cell_type": "code",
      "execution_count": null,
      "metadata": {
        "colab": {
          "base_uri": "https://localhost:8080/",
          "height": 74
        },
        "id": "N8wRXDjNWN2r",
        "outputId": "e1ff0505-8dfb-4618-e018-3b840a125d2f"
      },
      "outputs": [],
      "source": [
        "from sklearn.tree import DecisionTreeRegressor\n",
        "reg=DecisionTreeRegressor(random_state=0)\n",
        "reg.fit(x,y)"
      ]
    },
    {
      "cell_type": "markdown",
      "metadata": {
        "id": "eeoKVZ6INCSN"
      },
      "source": [
        "## Predicting a new result"
      ]
    },
    {
      "cell_type": "code",
      "execution_count": null,
      "metadata": {
        "colab": {
          "base_uri": "https://localhost:8080/"
        },
        "id": "Mct9BqpiYlT4",
        "outputId": "e592ef37-a27d-4cb0-9c27-ce0f3102f414"
      },
      "outputs": [],
      "source": [
        "y_pred=reg.predict([[6.5]])\n",
        "print(y_pred)"
      ]
    },
    {
      "cell_type": "markdown",
      "metadata": {
        "id": "PjHUYsyNNGAT"
      },
      "source": [
        "## Visualising the Decision Tree Regression results (higher resolution)"
      ]
    },
    {
      "cell_type": "code",
      "execution_count": null,
      "metadata": {
        "colab": {
          "base_uri": "https://localhost:8080/",
          "height": 472
        },
        "id": "s-HrtkwjZD03",
        "outputId": "e7e1645d-27c3-43ea-c97e-c76df8b8fd61"
      },
      "outputs": [],
      "source": [
        "x_grid=np.arange(min(x),max(x),0.1)\n",
        "#print(x_grid)\n",
        "x_grid=x_grid.reshape(len(x_grid),1)\n",
        "#print(x_grid)\n",
        "pt.scatter(x,y,color='red')\n",
        "pt.plot(x_grid,reg.predict(x_grid),color='blue')\n",
        "pt.title('Truth or Bluff (Decision Tree Regression)')\n",
        "pt.xlabel('Position Level')\n",
        "pt.ylabel('Salary')\n",
        "pt.show()"
      ]
    }
  ],
  "metadata": {
    "colab": {
      "provenance": []
    },
    "kernelspec": {
      "display_name": "Python 3",
      "name": "python3"
    },
    "language_info": {
      "codemirror_mode": {
        "name": "ipython",
        "version": 3
      },
      "file_extension": ".py",
      "mimetype": "text/x-python",
      "name": "python",
      "nbconvert_exporter": "python",
      "pygments_lexer": "ipython3",
      "version": "3.11.4"
    }
  },
  "nbformat": 4,
  "nbformat_minor": 0
}
