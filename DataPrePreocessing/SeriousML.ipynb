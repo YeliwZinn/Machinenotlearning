{
  "cells": [
    {
      "cell_type": "markdown",
      "metadata": {
        "id": "q7YgAq2S1dCk"
      },
      "source": [
        "# Data Pre-Processing"
      ]
    },
    {
      "cell_type": "markdown",
      "metadata": {
        "id": "KsDc6pPl13W1"
      },
      "source": [
        "## Import the Libraries"
      ]
    },
    {
      "cell_type": "code",
      "execution_count": 1,
      "metadata": {
        "id": "beJCuTK119f2"
      },
      "outputs": [],
      "source": [
        "### ----------------Library collection of functions and class to perform actions-------------------#######\n",
        "import numpy as np                              ##to work with arrays\n",
        "import matplotlib.pyplot as plt                                ##garphs and charts\n",
        "import pandas as pd                                ## helps us import the dataset and also create matrix of features of dataset also(preprocess data)\n",
        "                                                   #scikit-learn -->library that includes all models of data science\n"
      ]
    },
    {
      "cell_type": "code",
      "execution_count": 2,
      "metadata": {
        "id": "cCwkjvIW-YTq"
      },
      "outputs": [],
      "source": [
        "   #          if ever want to import from scikit use from sklear.whatever import whatever"
      ]
    },
    {
      "cell_type": "markdown",
      "metadata": {
        "id": "fmOrS-Q_9Myq"
      },
      "source": [
        "## **Import Data**(here we use Pandas)"
      ]
    },
    {
      "cell_type": "code",
      "execution_count": 3,
      "metadata": {
        "id": "D9OXZap29WBw"
      },
      "outputs": [],
      "source": [
        "dataset=pd.read_csv('Data.csv')   # here we can also set the delimiter as ('name od dataset',delimiter=';')\n",
        "x=dataset.iloc[:, :-1].values\n",
        "y=dataset.iloc[:, -1:].values\n"
      ]
    },
    {
      "cell_type": "markdown",
      "metadata": {
        "id": "rIcfiiM9UNPv"
      },
      "source": [
        "### or we can just specify the columns  or ke can drop the dependent feature column\n",
        "So like -->  x=dats['sex','abc']\n",
        "   --> x= df.drop('abc',axis=1)"
      ]
    },
    {
      "cell_type": "code",
      "execution_count": 4,
      "metadata": {
        "id": "OXUFffrN-BV7"
      },
      "outputs": [
        {
          "name": "stdout",
          "output_type": "stream",
          "text": [
            "[['France' 44.0 72000.0]\n",
            " ['Spain' 27.0 48000.0]\n",
            " ['Germany' 30.0 54000.0]\n",
            " ['Spain' 38.0 61000.0]\n",
            " ['Germany' 40.0 nan]\n",
            " ['France' 35.0 58000.0]\n",
            " ['Spain' nan 52000.0]\n",
            " ['France' 48.0 79000.0]\n",
            " ['Germany' 50.0 83000.0]\n",
            " ['France' 37.0 67000.0]]\n"
          ]
        }
      ],
      "source": [
        "print(x)"
      ]
    },
    {
      "cell_type": "code",
      "execution_count": 5,
      "metadata": {
        "id": "RIsdIrIS-DXk"
      },
      "outputs": [
        {
          "name": "stdout",
          "output_type": "stream",
          "text": [
            "[['No']\n",
            " ['Yes']\n",
            " ['No']\n",
            " ['No']\n",
            " ['Yes']\n",
            " ['Yes']\n",
            " ['No']\n",
            " ['Yes']\n",
            " ['No']\n",
            " ['Yes']]\n"
          ]
        }
      ],
      "source": [
        "print(y)"
      ]
    },
    {
      "cell_type": "markdown",
      "metadata": {
        "id": "ZPtBKzTI-MBC"
      },
      "source": [
        "## Missing Data in Dataset"
      ]
    },
    {
      "cell_type": "markdown",
      "metadata": {
        "id": "6s8yv9UZd8G4"
      },
      "source": [
        "### yaha do option hota h yaa toh ignore kr ke remove kr do yaaa column avg le ke replace"
      ]
    },
    {
      "cell_type": "markdown",
      "metadata": {
        "id": "OZBH0pgpecac"
      },
      "source": [
        "## Yaha ek or option h yaa toh pata h ki kaha missing h yaa tohh khud dhoond lo."
      ]
    },
    {
      "cell_type": "markdown",
      "metadata": {
        "id": "LfdK46WyeofJ"
      },
      "source": [
        "### Yourself wale maiii ka code ye h"
      ]
    },
    {
      "cell_type": "code",
      "execution_count": 6,
      "metadata": {
        "colab": {
          "base_uri": "https://localhost:8080/"
        },
        "id": "x2Lbi0Z0e14k",
        "outputId": "6108a6bc-cd3a-4c32-fb9d-abb4d5a281ff"
      },
      "outputs": [
        {
          "name": "stdout",
          "output_type": "stream",
          "text": [
            "Missing data: \n",
            " Country      0\n",
            "Age          1\n",
            "Salary       1\n",
            "Purchased    0\n",
            "dtype: int64\n"
          ]
        }
      ],
      "source": [
        "missing_values=dataset.isnull().sum()\n",
        "print(\"Missing data: \\n\",missing_values)"
      ]
    },
    {
      "cell_type": "markdown",
      "metadata": {
        "id": "vntzrZ8pePjy"
      },
      "source": [
        "#### start first by importing SimpleImputer from scikit-learn library"
      ]
    },
    {
      "cell_type": "code",
      "execution_count": 7,
      "metadata": {
        "id": "nUh1JnyFeT5W"
      },
      "outputs": [],
      "source": [
        "from sklearn.impute import SimpleImputer\n",
        "imputer=SimpleImputer(missing_values=np.nan,strategy='mean')\n",
        "#imputer.fit(dataset)          # ye bas pata krte h\n",
        "imputer.fit(x[:, 1:3])\n",
        "x[:, 1:3]=imputer.transform(x[:, 1:3])    #transfor jo h wo actual kaam krta h mean calculate kr ke relace krne kaaa ye ek naya featureset column return krta h\n"
      ]
    },
    {
      "cell_type": "code",
      "execution_count": 8,
      "metadata": {
        "id": "hedi1XwJgbpT"
      },
      "outputs": [
        {
          "name": "stdout",
          "output_type": "stream",
          "text": [
            "[['France' 44.0 72000.0]\n",
            " ['Spain' 27.0 48000.0]\n",
            " ['Germany' 30.0 54000.0]\n",
            " ['Spain' 38.0 61000.0]\n",
            " ['Germany' 40.0 63777.77777777778]\n",
            " ['France' 35.0 58000.0]\n",
            " ['Spain' 38.77777777777778 52000.0]\n",
            " ['France' 48.0 79000.0]\n",
            " ['Germany' 50.0 83000.0]\n",
            " ['France' 37.0 67000.0]]\n"
          ]
        }
      ],
      "source": [
        "print(x)"
      ]
    },
    {
      "cell_type": "markdown",
      "metadata": {
        "id": "pmLlYd01wXDl"
      },
      "source": [
        "## Encoding Variables(As in pata krna kis ke kis ko predict krna h)"
      ]
    },
    {
      "cell_type": "markdown",
      "metadata": {
        "id": "_v3EL77Gwh-F"
      },
      "source": [
        "### Independent Variables (ye sirf string wale ko krna h)"
      ]
    },
    {
      "cell_type": "code",
      "execution_count": 9,
      "metadata": {
        "id": "ZGtWTqqXw6vU"
      },
      "outputs": [],
      "source": [
        "from sklearn.compose import ColumnTransformer\n",
        "from sklearn.preprocessing import OneHotEncoder\n",
        "ct = ColumnTransformer(transformers=[('encoder',OneHotEncoder(),[0])],remainder='passthrough')\n",
        "x = np.array(ct.fit_transform(x))\n"
      ]
    },
    {
      "cell_type": "code",
      "execution_count": 10,
      "metadata": {
        "colab": {
          "base_uri": "https://localhost:8080/"
        },
        "id": "9w8BJdq4xdmF",
        "outputId": "e83015a6-8522-4597-d6c4-289ada08f62d"
      },
      "outputs": [
        {
          "name": "stdout",
          "output_type": "stream",
          "text": [
            "[[1.0 0.0 0.0 44.0 72000.0]\n",
            " [0.0 0.0 1.0 27.0 48000.0]\n",
            " [0.0 1.0 0.0 30.0 54000.0]\n",
            " [0.0 0.0 1.0 38.0 61000.0]\n",
            " [0.0 1.0 0.0 40.0 63777.77777777778]\n",
            " [1.0 0.0 0.0 35.0 58000.0]\n",
            " [0.0 0.0 1.0 38.77777777777778 52000.0]\n",
            " [1.0 0.0 0.0 48.0 79000.0]\n",
            " [0.0 1.0 0.0 50.0 83000.0]\n",
            " [1.0 0.0 0.0 37.0 67000.0]]\n"
          ]
        }
      ],
      "source": [
        "print(x)"
      ]
    },
    {
      "cell_type": "markdown",
      "metadata": {
        "id": "oq0hBow-zYzw"
      },
      "source": [
        "### Encoding Dependent Variable"
      ]
    },
    {
      "cell_type": "code",
      "execution_count": 11,
      "metadata": {
        "colab": {
          "base_uri": "https://localhost:8080/"
        },
        "id": "3_pWlg7uzeNo",
        "outputId": "b9752504-3faa-46c7-87ab-a7a9f9f70677"
      },
      "outputs": [
        {
          "name": "stderr",
          "output_type": "stream",
          "text": [
            "C:\\Users\\KIIT\\AppData\\Roaming\\Python\\Python311\\site-packages\\sklearn\\preprocessing\\_label.py:114: DataConversionWarning: A column-vector y was passed when a 1d array was expected. Please change the shape of y to (n_samples, ), for example using ravel().\n",
            "  y = column_or_1d(y, warn=True)\n"
          ]
        }
      ],
      "source": [
        "from sklearn.preprocessing import LabelEncoder\n",
        "lb=LabelEncoder()\n",
        "y=lb.fit_transform(y)"
      ]
    },
    {
      "cell_type": "code",
      "execution_count": 12,
      "metadata": {
        "colab": {
          "base_uri": "https://localhost:8080/"
        },
        "id": "I9IxVTNLzwT3",
        "outputId": "e30ffddf-c455-4f4e-986c-b042d7b0acda"
      },
      "outputs": [
        {
          "name": "stdout",
          "output_type": "stream",
          "text": [
            "[0 1 0 0 1 1 0 1 0 1]\n"
          ]
        }
      ],
      "source": [
        "print(y)"
      ]
    },
    {
      "cell_type": "markdown",
      "metadata": {
        "id": "rGgRwqsm80dj"
      },
      "source": [
        "## Splitting the Data"
      ]
    },
    {
      "cell_type": "markdown",
      "metadata": {
        "id": "tuZFUeQj859B"
      },
      "source": [
        "### Into Training and testing set"
      ]
    },
    {
      "cell_type": "code",
      "execution_count": 13,
      "metadata": {
        "id": "qz-o0CjKUiJQ"
      },
      "outputs": [],
      "source": [
        "from sklearn.model_selection import train_test_split\n",
        "\n",
        "x_train,x_test,y_train,y_test = train_test_split(x,y,test_size=0.2 , random_state=42)\n"
      ]
    },
    {
      "cell_type": "code",
      "execution_count": 14,
      "metadata": {
        "colab": {
          "base_uri": "https://localhost:8080/"
        },
        "id": "07KNA9tGU-Ck",
        "outputId": "091d12c9-6bd2-43f9-b6ba-b3f9fd10841d"
      },
      "outputs": [
        {
          "name": "stdout",
          "output_type": "stream",
          "text": [
            "[[1.0 0.0 0.0 35.0 58000.0]\n",
            " [1.0 0.0 0.0 44.0 72000.0]\n",
            " [1.0 0.0 0.0 48.0 79000.0]\n",
            " [0.0 1.0 0.0 30.0 54000.0]\n",
            " [1.0 0.0 0.0 37.0 67000.0]\n",
            " [0.0 1.0 0.0 40.0 63777.77777777778]\n",
            " [0.0 0.0 1.0 38.0 61000.0]\n",
            " [0.0 0.0 1.0 38.77777777777778 52000.0]]\n"
          ]
        }
      ],
      "source": [
        "print(x_train)"
      ]
    },
    {
      "cell_type": "code",
      "execution_count": 15,
      "metadata": {
        "colab": {
          "base_uri": "https://localhost:8080/"
        },
        "id": "UNG0TzF_U94i",
        "outputId": "aa9d20ad-0ad5-4a5d-85a7-67158e0cb0c3"
      },
      "outputs": [
        {
          "name": "stdout",
          "output_type": "stream",
          "text": [
            "[[0.0 1.0 0.0 50.0 83000.0]\n",
            " [0.0 0.0 1.0 27.0 48000.0]]\n"
          ]
        }
      ],
      "source": [
        "print(x_test)"
      ]
    },
    {
      "cell_type": "code",
      "execution_count": 16,
      "metadata": {
        "colab": {
          "base_uri": "https://localhost:8080/"
        },
        "id": "Tc9VlusqU9t3",
        "outputId": "a1147835-4b81-4f0a-b570-9700b2c98bb6"
      },
      "outputs": [
        {
          "name": "stdout",
          "output_type": "stream",
          "text": [
            "[1 0 1 0 1 1 0 0]\n"
          ]
        }
      ],
      "source": [
        "print(y_train)"
      ]
    },
    {
      "cell_type": "code",
      "execution_count": 17,
      "metadata": {
        "colab": {
          "base_uri": "https://localhost:8080/"
        },
        "id": "fwkXWu9zU9ev",
        "outputId": "07668f64-7873-4446-b719-6e4ba449abac"
      },
      "outputs": [
        {
          "name": "stdout",
          "output_type": "stream",
          "text": [
            "[0 1]\n"
          ]
        }
      ],
      "source": [
        "print(y_test)"
      ]
    },
    {
      "cell_type": "markdown",
      "metadata": {
        "id": "YzjVkrzOVTuW"
      },
      "source": [
        "# Feature Scaling(Done after spliting)"
      ]
    },
    {
      "cell_type": "markdown",
      "metadata": {
        "id": "-MsA7CKPctbv"
      },
      "source": [
        "### Only required for some models"
      ]
    },
    {
      "cell_type": "code",
      "execution_count": 18,
      "metadata": {
        "id": "PVbqPMN9VYpR"
      },
      "outputs": [],
      "source": [
        "from sklearn.preprocessing import StandardScaler\n",
        "\n",
        "sc=StandardScaler()\n",
        "x_train[:, 3:]=sc.fit_transform(x_train[:, 3:])\n",
        "x_test[:, 3:]=sc.transform(x_test[:, 3:])"
      ]
    },
    {
      "cell_type": "code",
      "execution_count": 19,
      "metadata": {
        "colab": {
          "base_uri": "https://localhost:8080/"
        },
        "id": "48GfmgvrcRdk",
        "outputId": "54b7cb36-a9f7-4cc6-f364-d754c273283a"
      },
      "outputs": [
        {
          "name": "stdout",
          "output_type": "stream",
          "text": [
            "[[1.0 0.0 0.0 -0.7529426005471072 -0.6260377781240918]\n",
            " [1.0 0.0 0.0 1.008453807952985 1.0130429500553495]\n",
            " [1.0 0.0 0.0 1.7912966561752484 1.8325833141450703]\n",
            " [0.0 1.0 0.0 -1.7314961608249362 -1.0943465576039322]\n",
            " [1.0 0.0 0.0 -0.3615211764359756 0.42765697570554906]\n",
            " [0.0 1.0 0.0 0.22561095973072184 0.05040823668012247]\n",
            " [0.0 0.0 1.0 -0.16581046438040975 -0.27480619351421154]\n",
            " [0.0 0.0 1.0 -0.013591021670525094 -1.3285009473438525]]\n"
          ]
        }
      ],
      "source": [
        "print(x_train)"
      ]
    },
    {
      "cell_type": "code",
      "execution_count": 20,
      "metadata": {
        "colab": {
          "base_uri": "https://localhost:8080/"
        },
        "id": "obs3vfd4cTuf",
        "outputId": "3abb9c52-3368-4b1b-f420-bc965e414927"
      },
      "outputs": [
        {
          "name": "stdout",
          "output_type": "stream",
          "text": [
            "[[0.0 1.0 0.0 2.1827180802863797 2.3008920936249107]\n",
            " [0.0 0.0 1.0 -2.3186282969916334 -1.7968097268236927]]\n"
          ]
        }
      ],
      "source": [
        "print(x_test)"
      ]
    }
  ],
  "metadata": {
    "colab": {
      "provenance": []
    },
    "kernelspec": {
      "display_name": "Python 3",
      "name": "python3"
    },
    "language_info": {
      "codemirror_mode": {
        "name": "ipython",
        "version": 3
      },
      "file_extension": ".py",
      "mimetype": "text/x-python",
      "name": "python",
      "nbconvert_exporter": "python",
      "pygments_lexer": "ipython3",
      "version": "3.11.4"
    }
  },
  "nbformat": 4,
  "nbformat_minor": 0
}
