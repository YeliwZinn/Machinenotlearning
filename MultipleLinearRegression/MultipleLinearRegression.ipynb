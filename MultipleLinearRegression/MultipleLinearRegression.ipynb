{
  "cells": [
    {
      "cell_type": "markdown",
      "metadata": {
        "id": "R6zmL3X9d2Im"
      },
      "source": [
        "# Multiple Linear Regression (BackWard Elimination)"
      ]
    },
    {
      "cell_type": "markdown",
      "metadata": {
        "id": "OeoT-ElGK-Lw"
      },
      "source": [
        "## We can't apply Linear regression blindly as many can be missleading leading to **Anscombe's quartet**"
      ]
    },
    {
      "cell_type": "markdown",
      "metadata": {
        "id": "piz11IdULYxX"
      },
      "source": [
        "Assumpltions of Linear Regression (to check a data set if it is linear or not)\n",
        "\n",
        "\n",
        "1.   Linearity (a relation between y for every x)\n",
        "2.   Homoscedasticity (we don't want cone shaped pattern)\n",
        "3.   Multivariate normality (we want error of distribution)\n",
        "4.   Independence (we don't want any kind of pattern in our data graph, as in\n",
        "     one row affecting other)\n",
        "5.   No corelation between predictors (independent variables)\n",
        "6.   Outliers (should we include or exclude them).#extra\n",
        "\n",
        "\n",
        "\n",
        "\n",
        "\n"
      ]
    },
    {
      "cell_type": "markdown",
      "metadata": {
        "id": "l0ERZ0m8eNaZ"
      },
      "source": [
        "## Import the libraries"
      ]
    },
    {
      "cell_type": "code",
      "execution_count": null,
      "metadata": {
        "id": "2CLy7vCIeRj_"
      },
      "outputs": [],
      "source": [
        "import pandas as pd\n",
        "import numpy as np\n",
        "import matplotlib.pyplot as plt"
      ]
    },
    {
      "cell_type": "markdown",
      "metadata": {
        "id": "p0ijuxB0eeZf"
      },
      "source": [
        "## Import the dataset"
      ]
    },
    {
      "cell_type": "code",
      "execution_count": null,
      "metadata": {
        "id": "zGIoBy27ed5Q"
      },
      "outputs": [],
      "source": [
        "df=pd.read_csv('50_Startups.csv')\n",
        "x=df.iloc[:, :-1].values\n",
        "y=df.iloc[:, -1:].values\n",
        "# x=df.drop('Profit',axis=1)\n",
        "# y=df['Profit']"
      ]
    },
    {
      "cell_type": "markdown",
      "metadata": {
        "id": "9lmWZomvfPas"
      },
      "source": [
        "## Missing Data"
      ]
    },
    {
      "cell_type": "code",
      "execution_count": null,
      "metadata": {
        "colab": {
          "base_uri": "https://localhost:8080/"
        },
        "id": "veBSoOPKfSwJ",
        "outputId": "8da82191-8b62-4e5a-9fd0-d3143209e461"
      },
      "outputs": [],
      "source": [
        "missing_values=df.isnull().sum()\n",
        "print(\"Missing Data: \\n\",missing_values)"
      ]
    },
    {
      "cell_type": "code",
      "execution_count": null,
      "metadata": {
        "id": "ig5EM7sQfpB-"
      },
      "outputs": [],
      "source": [
        "# from sklearn.impute import SimpleImputer\n",
        "# imputer = SimpleImputer(missing_values=np.nan,strategy='mean')\n",
        "# imputer.fit(x.iloc[:,0:3])\n",
        "# x.iloc[:,0:3]=imputer.transform(x.iloc[:,0:3])"
      ]
    },
    {
      "cell_type": "markdown",
      "metadata": {
        "id": "c8X8rq-ahS3f"
      },
      "source": [
        "## Encoding Categorical Variable"
      ]
    },
    {
      "cell_type": "code",
      "execution_count": null,
      "metadata": {
        "id": "WfEZ91wbhX3w"
      },
      "outputs": [],
      "source": [
        "from sklearn.compose import ColumnTransformer\n",
        "from sklearn.preprocessing import OneHotEncoder\n",
        "\n",
        "ct=ColumnTransformer(transformers=[('encoder',OneHotEncoder(),[3])],remainder='passthrough')\n",
        "x=np.array(ct.fit_transform(x))"
      ]
    },
    {
      "cell_type": "code",
      "execution_count": null,
      "metadata": {
        "colab": {
          "base_uri": "https://localhost:8080/"
        },
        "id": "mj66DieSisD7",
        "outputId": "6ac4c406-2da2-4e75-fb7d-3bc1ca4375b3"
      },
      "outputs": [],
      "source": [
        "print(x)"
      ]
    },
    {
      "cell_type": "markdown",
      "metadata": {
        "id": "la7LvWeLi_AX"
      },
      "source": [
        "## Split the dataset into Training & Testing"
      ]
    },
    {
      "cell_type": "code",
      "execution_count": null,
      "metadata": {
        "id": "w9_pel2ajFqg"
      },
      "outputs": [],
      "source": [
        "from sklearn.model_selection import train_test_split\n",
        "x_train,x_test,y_train,y_test=train_test_split(x,y,test_size=0.2,random_state=0)"
      ]
    },
    {
      "cell_type": "code",
      "execution_count": null,
      "metadata": {
        "id": "cIq2NzvtjbDy"
      },
      "outputs": [],
      "source": [
        "print(x_train)"
      ]
    },
    {
      "cell_type": "code",
      "execution_count": null,
      "metadata": {
        "id": "0Xmiif9vjgb4"
      },
      "outputs": [],
      "source": [
        "print(y_train)"
      ]
    },
    {
      "cell_type": "code",
      "execution_count": null,
      "metadata": {
        "id": "zjtswa1rjc7h"
      },
      "outputs": [],
      "source": [
        "print(x_test)"
      ]
    },
    {
      "cell_type": "code",
      "execution_count": null,
      "metadata": {
        "id": "gJVlb91AjknI"
      },
      "outputs": [],
      "source": [
        "print(y_test)"
      ]
    },
    {
      "cell_type": "markdown",
      "metadata": {
        "id": "H604q54MkbUM"
      },
      "source": [
        "### No Feature Scaling Required in Multiple Linear Regression : as we r multiplying coffecient each time"
      ]
    },
    {
      "cell_type": "markdown",
      "metadata": {
        "id": "CcAixNeikodF"
      },
      "source": [
        "## Training and testing the model"
      ]
    },
    {
      "cell_type": "markdown",
      "metadata": {
        "id": "fZ1o6Tb6mvsj"
      },
      "source": [
        "### Also we don't have to worry about Dummy variable trap or chossing beat way to create a model ek backeard elimination or forwrrd elimination etc\n",
        " **The linear regression class takes care of it itself ***"
      ]
    },
    {
      "cell_type": "code",
      "execution_count": null,
      "metadata": {
        "colab": {
          "base_uri": "https://localhost:8080/",
          "height": 74
        },
        "id": "zbpLMhbBk6JZ",
        "outputId": "9392a10b-e351-429d-96f2-35e334597270"
      },
      "outputs": [],
      "source": [
        "from sklearn.linear_model import LinearRegression\n",
        "regressor=LinearRegression()\n",
        "regressor.fit(x_train,y_train)"
      ]
    },
    {
      "cell_type": "markdown",
      "metadata": {
        "id": "ucXcTwSgmh9E"
      },
      "source": [
        "## Predicting"
      ]
    },
    {
      "cell_type": "code",
      "execution_count": null,
      "metadata": {
        "colab": {
          "base_uri": "https://localhost:8080/"
        },
        "id": "o-0tqZ32mkH-",
        "outputId": "7d7ae0dc-8d90-47bb-a43d-f1e0fd84256d"
      },
      "outputs": [],
      "source": [
        "y_pred=regressor.predict(x_test)\n",
        "np.set_printoptions(precision=2)\n",
        "# here we are trying to compare two vectors predicted and actual by concatenating two arrays\n",
        "\n",
        "print(np.concatenate((y_pred.reshape(len(y_pred),1),y_test.reshape(len(y_test),1)),axis=1))\n",
        "# reshape takes two arguments row and columns\n",
        "# axis 1 = vertically axis 0 = horizontally"
      ]
    },
    {
      "cell_type": "code",
      "execution_count": null,
      "metadata": {
        "id": "n9XgNbw0r8a9"
      },
      "outputs": [],
      "source": [
        "# plt.scatter(x_train[:,0],y_train,color='red')\n",
        "# plt.plot(x_train,regressor.predict(x_train),color='blue')\n",
        "# plt.title('Abc')\n",
        "# plt.xlabel('XYZ')\n",
        "# plt.ylabel('CVB')\n",
        "# plt.show()"
      ]
    },
    {
      "cell_type": "markdown",
      "metadata": {
        "id": "nTGUIeByuSJk"
      },
      "source": [
        "### Making a single prediction (for example the profit of a startup with R&D Spend = 160000, Administration Spend = 130000, Marketing Spend = 300000 and State = 'California')"
      ]
    },
    {
      "cell_type": "code",
      "execution_count": null,
      "metadata": {
        "colab": {
          "base_uri": "https://localhost:8080/"
        },
        "id": "edbiBp9fuTtM",
        "outputId": "0bd516a1-be8e-4e0d-fb9d-71e1fd0ee435"
      },
      "outputs": [],
      "source": [
        "print(regressor.predict([[1,0,0,160000,130000,300000]]))"
      ]
    },
    {
      "cell_type": "markdown",
      "metadata": {
        "id": "6DJVJbIguu20"
      },
      "source": [
        "Therefore, our model predicts that the profit of a Californian startup which spent 160000 in R&D, 130000 in Administration and 300000 in Marketing is $ 181566,92.\n",
        "\n",
        "**Important note 1:** Notice that the values of the features were all input in a double pair of square brackets. That's because the \"predict\" method always expects a 2D array as the format of its inputs. And putting our values into a double pair of square brackets makes the input exactly a 2D array. Simply put:\n",
        "\n",
        "$1, 0, 0, 160000, 130000, 300000 \\rightarrow \\textrm{scalars}$\n",
        "\n",
        "$[1, 0, 0, 160000, 130000, 300000] \\rightarrow \\textrm{1D array}$\n",
        "\n",
        "$[[1, 0, 0, 160000, 130000, 300000]] \\rightarrow \\textrm{2D array}$\n",
        "\n",
        "**Important note 2:** Notice also that the \"California\" state was not input as a string in the last column but as \"1, 0, 0\" in the first three columns. That's because of course the predict method expects the one-hot-encoded values of the state, and as we see in the second row of the matrix of features X, \"California\" was encoded as \"1, 0, 0\". And be careful to include these values in the first three columns, not the last three ones, because the dummy variables are always created in the first columns."
      ]
    },
    {
      "cell_type": "markdown",
      "metadata": {
        "id": "ZAGSmeDnuyxo"
      },
      "source": [
        "## Getting the final linear regression equation with the values of the coefficients"
      ]
    },
    {
      "cell_type": "code",
      "execution_count": null,
      "metadata": {
        "colab": {
          "base_uri": "https://localhost:8080/"
        },
        "id": "Joy02MsHu2QR",
        "outputId": "60d10d57-9327-4a24-8932-af3da25e7869"
      },
      "outputs": [],
      "source": [
        "print(regressor.coef_)\n",
        "print(regressor.intercept_)"
      ]
    },
    {
      "cell_type": "markdown",
      "metadata": {
        "id": "izlEiZDGvYtW"
      },
      "source": [
        "<!-- Therefore, the equation of our multiple linear regression model is:\n",
        "\n",
        "$$\\textrm{Profit} = 86.6 \\times \\textrm{Dummy State 1} - 873 \\times \\textrm{Dummy State 2} + 786 \\times \\textrm{Dummy State 3} + 0.773 \\times \\textrm{R&D Spend} + 0.0329 \\times \\textrm{Administration} + 0.0366 \\times \\textrm{Marketing Spend} + 42467.53$$\n",
        "\n",
        "**Important Note:** To get these coefficients we called the \"coef_\" and \"intercept_\" attributes from our regressor object. Attributes in Python are different than methods and usually return a simple value or an array of values. -->"
      ]
    },
    {
      "cell_type": "code",
      "execution_count": null,
      "metadata": {},
      "outputs": [],
      "source": [
        "import statsmodels.api as sm\n",
        "x=np.append(arr=np.ones((50,1)).astype(int),values=x,axis=1)\n",
        "X_OLS=x[:,[0,1,2,3,4,5]]\n",
        "X_OLS=X_OLS.astype(np.float64)\n",
        "regressor_ols=sm.OLS(endog=y,exog=X_OLS).fit()\n",
        "regressor_ols.summary()\n",
        "X_OLS=x[:,[0,1,2,3,4,5]]\n",
        "X_OLS=X_OLS.astype(np.float64)\n",
        "regressor_ols=sm.OLS(endog=y,exog=X_OLS).fit()\n",
        "regressor_ols.summary()\n",
        "X_opt = x[:, [0, 1, 3, 4, 5]]\n",
        "X_opt = X_opt.astype(np.float64)\n",
        "regressor_OLS = sm.OLS(endog = y, exog = X_opt).fit()\n",
        "regressor_OLS.summary()\n",
        "X_opt = x[:, [0, 3, 4, 5]]\n",
        "X_opt = X_opt.astype(np.float64)\n",
        "regressor_OLS = sm.OLS(endog = y, exog = X_opt).fit()\n",
        "regressor_OLS.summary()\n",
        "X_opt = x[:, [0, 3, 5]]\n",
        "X_opt = X_opt.astype(np.float64)\n",
        "regressor_OLS = sm.OLS(endog = y, exog = X_opt).fit()\n",
        "regressor_OLS.summary()\n",
        "X_opt = x[:, [0, 3]]\n",
        "X_opt = X_opt.astype(np.float64)\n",
        "regressor_OLS = sm.OLS(endog = y, exog = X_opt).fit()\n",
        "regressor_OLS.summary()"
      ]
    }
  ],
  "metadata": {
    "colab": {
      "provenance": []
    },
    "kernelspec": {
      "display_name": "Python 3",
      "name": "python3"
    },
    "language_info": {
      "codemirror_mode": {
        "name": "ipython",
        "version": 3
      },
      "file_extension": ".py",
      "mimetype": "text/x-python",
      "name": "python",
      "nbconvert_exporter": "python",
      "pygments_lexer": "ipython3",
      "version": "3.11.4"
    }
  },
  "nbformat": 4,
  "nbformat_minor": 0
}
