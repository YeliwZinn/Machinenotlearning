{
  "cells": [
    {
      "cell_type": "markdown",
      "metadata": {
        "id": "C_s65o-40t4f"
      },
      "source": [
        "# Polynomial Linear Regression"
      ]
    },
    {
      "cell_type": "markdown",
      "metadata": {
        "id": "QwyzFw2U0zf3"
      },
      "source": [
        "## Here there is a non linear relationship between independent variables and dependent ones.\n",
        "## Also it is a special kind of multiple linear regression."
      ]
    },
    {
      "cell_type": "markdown",
      "metadata": {
        "id": "dfxcZpaF1M6U"
      },
      "source": [
        "## Import the libraries"
      ]
    },
    {
      "cell_type": "code",
      "execution_count": null,
      "metadata": {
        "id": "5NpHlkwv1St1"
      },
      "outputs": [],
      "source": [
        "import pandas as pd\n",
        "import numpy as np\n",
        "import matplotlib.pyplot as plt"
      ]
    },
    {
      "cell_type": "markdown",
      "metadata": {
        "id": "djiMM6dR1fT-"
      },
      "source": [
        "## Import the dataset"
      ]
    },
    {
      "cell_type": "code",
      "execution_count": null,
      "metadata": {
        "id": "tCS99jTs1iHK"
      },
      "outputs": [],
      "source": [
        "df=pd.read_csv('Position_Salaries.csv')\n",
        "x=df.iloc[:, 1:-1].values\n",
        "y=df.iloc[:, -1:].values"
      ]
    },
    {
      "cell_type": "markdown",
      "metadata": {
        "id": "HOMZmv1N19xY"
      },
      "source": [
        "## Here we are not going to split the dataset cuz we need the whole dataset to predict results(salaries)."
      ]
    },
    {
      "cell_type": "markdown",
      "metadata": {
        "id": "2e6Rbhvi2S4i"
      },
      "source": [
        "## Training and testing the data (Linear Regression)"
      ]
    },
    {
      "cell_type": "code",
      "execution_count": null,
      "metadata": {
        "colab": {
          "base_uri": "https://localhost:8080/",
          "height": 74
        },
        "id": "Vd8HVBma2cMO",
        "outputId": "af2e6d86-bc84-4481-c28a-19c47473af5b"
      },
      "outputs": [],
      "source": [
        "from sklearn.linear_model import LinearRegression\n",
        "lin_reg=LinearRegression()\n",
        "lin_reg.fit(x,y)"
      ]
    },
    {
      "cell_type": "markdown",
      "metadata": {
        "id": "EC_qAW-c25us"
      },
      "source": [
        "## Training and Testing the data (Polynomial Regression)"
      ]
    },
    {
      "cell_type": "code",
      "execution_count": null,
      "metadata": {
        "colab": {
          "base_uri": "https://localhost:8080/",
          "height": 74
        },
        "id": "T-M9OprG3DIT",
        "outputId": "865b074e-8a3f-48d0-8868-0cda3f8526cb"
      },
      "outputs": [],
      "source": [
        "from sklearn.preprocessing import PolynomialFeatures\n",
        "poly_reg=PolynomialFeatures(degree=4)\n",
        "x_poly=poly_reg.fit_transform(x)\n",
        "lin_reg2=LinearRegression()\n",
        "lin_reg2.fit(x_poly,y)"
      ]
    },
    {
      "cell_type": "markdown",
      "metadata": {
        "id": "4JmOL1Tv4Dld"
      },
      "source": [
        "## Visualizing the Linear Regression"
      ]
    },
    {
      "cell_type": "code",
      "execution_count": null,
      "metadata": {
        "colab": {
          "base_uri": "https://localhost:8080/",
          "height": 472
        },
        "id": "g2mvXs9z4JHT",
        "outputId": "8724ff5e-df63-4aa7-fa8b-10e58c75f9ad"
      },
      "outputs": [],
      "source": [
        "plt.scatter(x,y,color='red')\n",
        "plt.plot(x,lin_reg.predict(x),color='blue')\n",
        "plt.title('Truth or Bluff (Linear Regression)')\n",
        "plt.xlabel('Salary')\n",
        "plt.ylabel('Level')\n",
        "plt.show()"
      ]
    },
    {
      "cell_type": "markdown",
      "metadata": {
        "id": "R0tOqOuA40D1"
      },
      "source": [
        "## Visualizing the Polynomial Regression"
      ]
    },
    {
      "cell_type": "code",
      "execution_count": null,
      "metadata": {
        "colab": {
          "base_uri": "https://localhost:8080/",
          "height": 472
        },
        "id": "quojZlW25vo5",
        "outputId": "0084e9c5-3e0b-408e-d9a2-a68ab373b5c9"
      },
      "outputs": [],
      "source": [
        "plt.scatter(x,y,color='red')\n",
        "plt.plot(x,lin_reg2.predict(x_poly),color='blue')\n",
        "plt.title('Truth or Bluff (Polynomial Regression)')\n",
        "plt.xlabel('Position level')\n",
        "plt.ylabel('Salary')\n",
        "plt.show()"
      ]
    },
    {
      "cell_type": "markdown",
      "metadata": {
        "id": "_jVXco9P6Mp7"
      },
      "source": [
        "## Visualising the Polynomial Regression results (for higher resolution and smoother curve)"
      ]
    },
    {
      "cell_type": "code",
      "execution_count": null,
      "metadata": {
        "colab": {
          "base_uri": "https://localhost:8080/",
          "height": 472
        },
        "id": "cQdcui-f6LnT",
        "outputId": "4deaf3bd-384b-4a06-aa6b-7838b84fe749"
      },
      "outputs": [],
      "source": [
        "x_grid = np.arange(min(x), max(x), 0.1)\n",
        "x_grid = x_grid.reshape((len(x_grid), 1))\n",
        "plt.scatter(x, y, color = 'red')\n",
        "plt.plot(x_grid, lin_reg2.predict(poly_reg.fit_transform(x_grid)), color = 'blue')\n",
        "plt.title('Truth or Bluff (Polynomial Regression)')\n",
        "plt.xlabel('Position level')\n",
        "plt.ylabel('Salary')\n",
        "plt.show()"
      ]
    },
    {
      "cell_type": "markdown",
      "metadata": {
        "id": "nVXlhu-V6q1d"
      },
      "source": [
        "## Predicting the result"
      ]
    },
    {
      "cell_type": "code",
      "execution_count": null,
      "metadata": {
        "colab": {
          "base_uri": "https://localhost:8080/"
        },
        "id": "v3125b7l6xQx",
        "outputId": "241f6b1e-3f00-4d5d-aa8c-6ec560b5ff1d"
      },
      "outputs": [],
      "source": [
        "print(lin_reg.predict([[6.5]]))"
      ]
    },
    {
      "cell_type": "code",
      "execution_count": null,
      "metadata": {
        "colab": {
          "base_uri": "https://localhost:8080/"
        },
        "id": "PvXW-eeV64HM",
        "outputId": "816da3bf-26be-422c-8ebf-76c50d8370dd"
      },
      "outputs": [],
      "source": [
        "print(lin_reg2.predict(poly_reg.fit_transform([[6.5]])))"
      ]
    }
  ],
  "metadata": {
    "colab": {
      "provenance": []
    },
    "kernelspec": {
      "display_name": "Python 3",
      "name": "python3"
    },
    "language_info": {
      "codemirror_mode": {
        "name": "ipython",
        "version": 3
      },
      "file_extension": ".py",
      "mimetype": "text/x-python",
      "name": "python",
      "nbconvert_exporter": "python",
      "pygments_lexer": "ipython3",
      "version": "3.11.4"
    }
  },
  "nbformat": 4,
  "nbformat_minor": 0
}
