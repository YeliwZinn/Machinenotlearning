{
  "cells": [
    {
      "cell_type": "markdown",
      "metadata": {
        "id": "OsTQHl7PiTGI"
      },
      "source": [
        "# Support Vector Regression"
      ]
    },
    {
      "cell_type": "markdown",
      "metadata": {
        "id": "_W426Fz7iaTR"
      },
      "source": [
        "## Here instead of a line as in linear regression we have a tube containing certain points called Epsillon insensitive tube and here we don't consider any sort of error in points however there are points outside the tube that are called support points that provide support for the structure of tube (as in how the tube will look like) the points on the upper side of the tube are called xC and lower side are called xC* ."
      ]
    },
    {
      "cell_type": "markdown",
      "metadata": {
        "id": "Jttq47bqkblL"
      },
      "source": [
        "# Here at first we are going to focus on simple linear SVR."
      ]
    },
    {
      "cell_type": "markdown",
      "metadata": {
        "id": "-s90I9a0kpaI"
      },
      "source": [
        "## Import the libraries"
      ]
    },
    {
      "cell_type": "code",
      "execution_count": null,
      "metadata": {
        "id": "tOiCK2fEiM_V"
      },
      "outputs": [],
      "source": [
        "import pandas as pd\n",
        "import numpy as np\n",
        "import matplotlib.pyplot as plt"
      ]
    },
    {
      "cell_type": "markdown",
      "metadata": {
        "id": "B4cpMy6elsjT"
      },
      "source": [
        "## Import the dataset"
      ]
    },
    {
      "cell_type": "code",
      "execution_count": null,
      "metadata": {
        "id": "hig1NEt6lx1F"
      },
      "outputs": [],
      "source": [
        "df=pd.read_csv('Position_Salaries.csv')\n",
        "x=df.iloc[:, 1:-1].values\n",
        "y=df.iloc[: , -1].values"
      ]
    },
    {
      "cell_type": "code",
      "execution_count": null,
      "metadata": {
        "colab": {
          "base_uri": "https://localhost:8080/"
        },
        "id": "ELBsLPxrmXal",
        "outputId": "a72bc05d-3e16-475d-ea8c-462ce7fb3573"
      },
      "outputs": [],
      "source": [
        "print(x)"
      ]
    },
    {
      "cell_type": "code",
      "execution_count": null,
      "metadata": {
        "colab": {
          "base_uri": "https://localhost:8080/"
        },
        "id": "UPVD6cqHmcBx",
        "outputId": "64e6f07c-53ec-4e26-b221-2f7ff1d7e72b"
      },
      "outputs": [],
      "source": [
        "print(y)"
      ]
    },
    {
      "cell_type": "code",
      "execution_count": null,
      "metadata": {
        "id": "uAD1N1pg9gD0"
      },
      "outputs": [],
      "source": [
        "y=y.reshape(len(y),1)"
      ]
    },
    {
      "cell_type": "code",
      "execution_count": null,
      "metadata": {
        "colab": {
          "base_uri": "https://localhost:8080/"
        },
        "id": "zt7gxJ9u9kBe",
        "outputId": "87f71f76-a7c9-4245-ee99-2eccf1e588ec"
      },
      "outputs": [],
      "source": [
        "print(y)"
      ]
    },
    {
      "cell_type": "markdown",
      "metadata": {
        "id": "95ZRQ60YmF_w"
      },
      "source": [
        "## Feature Scaling"
      ]
    },
    {
      "cell_type": "markdown",
      "metadata": {
        "id": "qrpZbfpt9pRn"
      },
      "source": [
        "### Feature scale hum tab use karenge tab jab huamara independent value or dependent value ka difference bahut jayada ho kyuki ek value ignore ho jayegaaa."
      ]
    },
    {
      "cell_type": "code",
      "execution_count": null,
      "metadata": {
        "id": "ACqLdD97miG7"
      },
      "outputs": [],
      "source": [
        "from sklearn.preprocessing import StandardScaler\n",
        "st_x = StandardScaler()\n",
        "st_y= StandardScaler()\n",
        "x=st_x.fit_transform(x)\n",
        "y=st_y.fit_transform(y)"
      ]
    },
    {
      "cell_type": "code",
      "execution_count": null,
      "metadata": {
        "colab": {
          "base_uri": "https://localhost:8080/"
        },
        "id": "t2-Ku8GB-M6X",
        "outputId": "63bff8f6-f4e0-45e2-8d7d-dbd82fcca349"
      },
      "outputs": [],
      "source": [
        "print(x)"
      ]
    },
    {
      "cell_type": "code",
      "execution_count": null,
      "metadata": {
        "colab": {
          "base_uri": "https://localhost:8080/"
        },
        "id": "Bk3kAAes-OeL",
        "outputId": "61a5e68a-5888-47a0-9a79-0317c14514e6"
      },
      "outputs": [],
      "source": [
        "print(y)"
      ]
    },
    {
      "cell_type": "markdown",
      "metadata": {
        "id": "pTTHafC1-fu9"
      },
      "source": [
        "#Yaha split karne ki zaroorat nahi h kyuki saari independent values chahiye humko..."
      ]
    },
    {
      "cell_type": "markdown",
      "metadata": {
        "id": "l5EXS6Zl-tUH"
      },
      "source": [
        "## Training and testing the dataset"
      ]
    },
    {
      "cell_type": "code",
      "execution_count": null,
      "metadata": {
        "id": "U2cnmViw-qXU"
      },
      "outputs": [],
      "source": [
        "from sklearn.svm import SVR\n",
        "sr=SVR(kernel='rbf')\n",
        "sr.fit(x,y)"
      ]
    },
    {
      "cell_type": "markdown",
      "metadata": {
        "id": "5xeegt6v_Rgl"
      },
      "source": [
        "## Predicting"
      ]
    },
    {
      "cell_type": "code",
      "execution_count": null,
      "metadata": {
        "colab": {
          "base_uri": "https://localhost:8080/"
        },
        "id": "dbm8kUDd_V8S",
        "outputId": "3beda45b-fe2b-4275-fdf7-500e60852a1b"
      },
      "outputs": [],
      "source": [
        "print(st_y.inverse_transform( sr.predict(st_x.fit_transform([[6.5]])).reshape(-1,1)))"
      ]
    },
    {
      "cell_type": "markdown",
      "metadata": {
        "id": "aa1Kqfx__yU2"
      },
      "source": [
        "# Visualizing The Prediction"
      ]
    },
    {
      "cell_type": "code",
      "execution_count": null,
      "metadata": {
        "colab": {
          "base_uri": "https://localhost:8080/",
          "height": 472
        },
        "id": "yQ2w6E52_2nN",
        "outputId": "7e0937f6-1075-4295-f0e7-13dc77ea3b07"
      },
      "outputs": [],
      "source": [
        "plt.scatter(st_x.inverse_transform(x), st_y.inverse_transform(y), color = 'red')\n",
        "plt.plot(st_x.inverse_transform(x), st_y.inverse_transform(sr.predict(x).reshape(-1,1)), color = 'blue')\n",
        "plt.title('Truth or Bluff (SVR)')\n",
        "plt.xlabel('Position level')\n",
        "plt.ylabel('Salary')\n",
        "plt.show()"
      ]
    },
    {
      "cell_type": "code",
      "execution_count": null,
      "metadata": {
        "colab": {
          "base_uri": "https://localhost:8080/",
          "height": 472
        },
        "id": "yqK9cF-lBOvA",
        "outputId": "97d54c56-1247-4cbf-852a-cc9c2fee71ef"
      },
      "outputs": [],
      "source": [
        "X_grid = np.arange(min(st_x.inverse_transform(x)), max(st_x.inverse_transform(x)), 0.1)\n",
        "X_grid = X_grid.reshape((len(X_grid), 1))\n",
        "plt.scatter(st_x.inverse_transform(x), st_y.inverse_transform(y), color = 'red')\n",
        "plt.plot(X_grid, st_y.inverse_transform(sr.predict(st_x.transform(X_grid)).reshape(-1,1)), color = 'blue')\n",
        "plt.title('Truth or Bluff (SVR)')\n",
        "plt.xlabel('Position level')\n",
        "plt.ylabel('Salary')\n",
        "plt.show()"
      ]
    }
  ],
  "metadata": {
    "colab": {
      "provenance": []
    },
    "kernelspec": {
      "display_name": "Python 3",
      "name": "python3"
    },
    "language_info": {
      "codemirror_mode": {
        "name": "ipython",
        "version": 3
      },
      "file_extension": ".py",
      "mimetype": "text/x-python",
      "name": "python",
      "nbconvert_exporter": "python",
      "pygments_lexer": "ipython3",
      "version": "3.11.4"
    }
  },
  "nbformat": 4,
  "nbformat_minor": 0
}
